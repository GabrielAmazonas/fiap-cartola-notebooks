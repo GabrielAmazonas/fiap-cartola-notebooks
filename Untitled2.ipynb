{
 "cells": [
  {
   "cell_type": "code",
   "execution_count": 3,
   "metadata": {},
   "outputs": [
    {
     "name": "stdout",
     "output_type": "stream",
     "text": [
      "Collecting ppextensions\n",
      "  Downloading ppextensions-0.0.6-py3-none-any.whl (71 kB)\n",
      "\u001b[K     |████████████████████████████████| 71 kB 20 kB/s  eta 0:00:01\n",
      "\u001b[?25hRequirement already satisfied: ipython>=1.0 in /opt/anaconda3/lib/python3.6/site-packages (from ppextensions) (6.4.0)\n",
      "Collecting ipython-sql==0.3.8\n",
      "  Downloading ipython_sql-0.3.8-py3-none-any.whl (17 kB)\n",
      "Collecting nbdime\n",
      "  Downloading nbdime-3.1.0-py2.py3-none-any.whl (5.1 MB)\n",
      "\u001b[K     |████████████████████████████████| 5.1 MB 1.6 MB/s eta 0:00:01     |█████▎                          | 839 kB 973 kB/s eta 0:00:05     |████████████████                | 2.6 MB 761 kB/s eta 0:00:04\n",
      "\u001b[?25hCollecting thrift-sasl==0.2.1\n",
      "  Downloading thrift_sasl-0.2.1.tar.gz (3.9 kB)\n",
      "Collecting pandas==0.22.0\n",
      "  Downloading pandas-0.22.0-cp36-cp36m-manylinux1_x86_64.whl (26.2 MB)\n",
      "\u001b[K     |████████████████████████████████| 26.2 MB 3.8 kB/s eta 0:00:01    |█▎                              | 1.1 MB 769 kB/s eta 0:00:33kB/s eta 0:00:10 eta 0:01:04     |█████████████████████████████▌  | 24.2 MB 101 kB/s eta 0:00:21     |██████████████████████████████  | 24.6 MB 101 kB/s eta 0:00:17\n",
      "\u001b[?25hCollecting impyla==0.13.8\n",
      "  Downloading impyla-0.13.8.tar.gz (136 kB)\n",
      "\u001b[K     |████████████████████████████████| 136 kB 1.7 MB/s eta 0:00:01\n",
      "\u001b[?25hRequirement already satisfied: requests in /opt/anaconda3/lib/python3.6/site-packages (from ppextensions) (2.18.4)\n",
      "Collecting qgrid\n",
      "  Downloading qgrid-1.3.1.tar.gz (889 kB)\n",
      "\u001b[K     |████████████████████████████████| 889 kB 1.9 MB/s eta 0:00:01\n",
      "\u001b[?25hCollecting prettytable\n",
      "  Downloading prettytable-2.1.0-py3-none-any.whl (22 kB)\n",
      "Collecting protobuf==3.5.2.post1\n",
      "  Downloading protobuf-3.5.2.post1-cp36-cp36m-manylinux1_x86_64.whl (6.4 MB)\n",
      "\u001b[K     |████████████████████████████████| 6.4 MB 1.4 MB/s eta 0:00:01\n",
      "\u001b[?25hCollecting gitpython\n",
      "  Downloading GitPython-3.1.17-py3-none-any.whl (166 kB)\n",
      "\u001b[K     |████████████████████████████████| 166 kB 2.3 MB/s eta 0:00:01\n",
      "\u001b[?25hCollecting pyhive==0.2.1\n",
      "  Downloading PyHive-0.2.1.tar.gz (42 kB)\n",
      "\u001b[K     |████████████████████████████████| 42 kB 420 kB/s eta 0:00:01\n",
      "\u001b[?25hCollecting autovizwidget\n",
      "  Downloading autovizwidget-0.18.0.tar.gz (8.3 kB)\n",
      "Collecting astor\n",
      "  Downloading astor-0.8.1-py2.py3-none-any.whl (27 kB)\n",
      "Collecting mysql-connector-python-rf\n",
      "  Downloading mysql-connector-python-rf-2.2.2.tar.gz (11.9 MB)\n",
      "\u001b[K     |████████████████████████████████| 11.9 MB 357 kB/s eta 0:00:01\n",
      "\u001b[?25hCollecting pysftp==0.2.9\n",
      "  Downloading pysftp-0.2.9.tar.gz (25 kB)\n",
      "Collecting hdfs3\n",
      "  Downloading hdfs3-0.3.1.tar.gz (44 kB)\n",
      "\u001b[K     |████████████████████████████████| 44 kB 384 kB/s eta 0:00:01\n",
      "\u001b[?25hCollecting teradata==15.10.0.20\n",
      "  Downloading teradata-15.10.0.20.tar.gz (50 kB)\n",
      "\u001b[K     |████████████████████████████████| 50 kB 2.4 MB/s  eta 0:00:01\n",
      "\u001b[?25hCollecting apache-airflow==1.8.2\n",
      "  Downloading apache-airflow-1.8.2.tar.gz (2.3 MB)\n",
      "\u001b[K     |████████████████████████████████| 2.3 MB 899 kB/s eta 0:00:01\n",
      "\u001b[31m    ERROR: Command errored out with exit status 1:\n",
      "     command: /opt/anaconda3/bin/python -c 'import sys, setuptools, tokenize; sys.argv[0] = '\"'\"'/tmp/pip-install-n3rd29m6/apache-airflow/setup.py'\"'\"'; __file__='\"'\"'/tmp/pip-install-n3rd29m6/apache-airflow/setup.py'\"'\"';f=getattr(tokenize, '\"'\"'open'\"'\"', open)(__file__);code=f.read().replace('\"'\"'\\r\\n'\"'\"', '\"'\"'\\n'\"'\"');f.close();exec(compile(code, __file__, '\"'\"'exec'\"'\"'))' egg_info --egg-base /tmp/pip-install-n3rd29m6/apache-airflow/pip-egg-info\n",
      "         cwd: /tmp/pip-install-n3rd29m6/apache-airflow/\n",
      "    Complete output (9 lines):\n",
      "    Traceback (most recent call last):\n",
      "      File \"<string>\", line 1, in <module>\n",
      "      File \"/tmp/pip-install-n3rd29m6/apache-airflow/setup.py\", line 302, in <module>\n",
      "        do_setup()\n",
      "      File \"/tmp/pip-install-n3rd29m6/apache-airflow/setup.py\", line 198, in do_setup\n",
      "        check_previous()\n",
      "      File \"/tmp/pip-install-n3rd29m6/apache-airflow/setup.py\", line 105, in check_previous\n",
      "        in pip.get_installed_distributions()])\n",
      "    AttributeError: module 'pip' has no attribute 'get_installed_distributions'\n",
      "    ----------------------------------------\u001b[0m\n",
      "\u001b[31mERROR: Command errored out with exit status 1: python setup.py egg_info Check the logs for full command output.\u001b[0m\n",
      "\u001b[?25h"
     ]
    }
   ],
   "source": [
    "import sys\n",
    "!{sys.executable} -m pip install ppextensions"
   ]
  },
  {
   "cell_type": "code",
   "execution_count": null,
   "metadata": {},
   "outputs": [],
   "source": [
    "%load_ext ppextensions.ppmagics"
   ]
  }
 ],
 "metadata": {
  "kernelspec": {
   "display_name": "Python 3",
   "language": "python",
   "name": "python3"
  },
  "language_info": {
   "codemirror_mode": {
    "name": "ipython",
    "version": 3
   },
   "file_extension": ".py",
   "mimetype": "text/x-python",
   "name": "python",
   "nbconvert_exporter": "python",
   "pygments_lexer": "ipython3",
   "version": "3.6.10"
  }
 },
 "nbformat": 4,
 "nbformat_minor": 2
}
